{
 "cells": [
  {
   "cell_type": "markdown",
   "id": "29bb55be-03ac-4e65-aa88-c0dcb5ef60aa",
   "metadata": {},
   "source": [
    "##Step 1: Train and Package the ML Model"
   ]
  },
  {
   "cell_type": "markdown",
   "id": "719c7710-29ff-427f-9d7f-e66489bb1173",
   "metadata": {},
   "source": [
    "We’ll use a simple Logistic Regression model trained on movie reviews."
   ]
  },
  {
   "cell_type": "code",
   "execution_count": 7,
   "id": "41908ba9-a4dc-4b93-ab7f-e159d8d1013c",
   "metadata": {},
   "outputs": [],
   "source": [
    "import pickle\n",
    "import numpy as np\n",
    "import pandas as pd\n",
    "from sklearn.feature_extraction.text import TfidfVectorizer\n",
    "from sklearn.model_selection import train_test_split\n",
    "from sklearn.linear_model import LogisticRegression\n",
    "\n",
    "# Sample Data\n",
    "data = {\n",
    "    \"text\": [\"I love this movie\", \"This film was terrible\", \"Amazing storyline!\", \"Worst acting ever\"],\n",
    "    \"label\": [1, 0, 1, 0]\n",
    "}\n",
    "df = pd.DataFrame(data)\n",
    "\n",
    "# Feature Extraction\n",
    "vectorizer = TfidfVectorizer()\n",
    "X = vectorizer.fit_transform(df[\"text\"])\n",
    "y = df[\"label\"]\n",
    "\n",
    "# Train Model\n",
    "X_train, X_test, y_train, y_test = train_test_split(X, y, test_size=0.2, random_state=42)\n",
    "model = LogisticRegression()\n",
    "model.fit(X_train, y_train)\n",
    "\n",
    "# Save Model and Vectorizer\n",
    "with open(\"sentiment_model.pkl\", \"wb\") as f:\n",
    "    pickle.dump(model, f)\n",
    "with open(\"vectorizer.pkl\", \"wb\") as f:\n",
    "    pickle.dump(vectorizer, f)\n"
   ]
  },
  {
   "cell_type": "markdown",
   "id": "cd032c07-f801-4857-ac18-3dc2712e4ad0",
   "metadata": {},
   "source": [
    "##Step 2: Create an API using FastAPI"
   ]
  },
  {
   "cell_type": "markdown",
   "id": "d3d41ba3-ad61-41ee-b951-0882815d881e",
   "metadata": {},
   "source": [
    "We now expose our model as an API using FastAPI."
   ]
  },
  {
   "cell_type": "code",
   "execution_count": 8,
   "id": "dc74f6e6-9777-462f-8062-72a8dc754a54",
   "metadata": {},
   "outputs": [],
   "source": [
    "!pip install FastAPI -q"
   ]
  },
  {
   "cell_type": "code",
   "execution_count": 9,
   "id": "76bc0ccd-da8e-453e-a500-e71af0b6bde2",
   "metadata": {},
   "outputs": [],
   "source": [
    "from fastapi import FastAPI\n",
    "import pickle\n",
    "\n",
    "# Load the Model and Vectorizer\n",
    "with open(\"sentiment_model.pkl\", \"rb\") as f:\n",
    "    model = pickle.load(f)\n",
    "with open(\"vectorizer.pkl\", \"rb\") as f:\n",
    "    vectorizer = pickle.load(f)\n",
    "\n",
    "app = FastAPI()\n",
    "\n",
    "@app.get(\"/\")\n",
    "def home():\n",
    "    return {\"message\": \"Sentiment Analysis API is running!\"}\n",
    "\n",
    "@app.post(\"/predict/\")\n",
    "def predict_sentiment(text: str):\n",
    "    transformed_text = vectorizer.transform([text])\n",
    "    prediction = model.predict(transformed_text)[0]\n",
    "    sentiment = \"Positive\" if prediction == 1 else \"Negative\"\n",
    "    return {\"text\": text, \"sentiment\": sentiment}\n"
   ]
  },
  {
   "cell_type": "code",
   "execution_count": null,
   "id": "a8b682b5-d424-4aa8-8510-da193d3c3456",
   "metadata": {},
   "outputs": [],
   "source": []
  }
 ],
 "metadata": {
  "kernelspec": {
   "display_name": "Python 3 (ipykernel)",
   "language": "python",
   "name": "python3"
  },
  "language_info": {
   "codemirror_mode": {
    "name": "ipython",
    "version": 3
   },
   "file_extension": ".py",
   "mimetype": "text/x-python",
   "name": "python",
   "nbconvert_exporter": "python",
   "pygments_lexer": "ipython3",
   "version": "3.12.7"
  }
 },
 "nbformat": 4,
 "nbformat_minor": 5
}
